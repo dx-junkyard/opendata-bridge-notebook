{
 "cells": [
  {
   "cell_type": "markdown",
   "metadata": {},
   "source": [
    "# 東京都の緊急避難場所の一覧データを取得する\n",
    "[東京都総務局が提供する緊急避難場所](https://catalog.data.metro.tokyo.lg.jp/dataset/t000003d0000000093)を[自治体標準オープンデータセット](https://www.digital.go.jp/resources/open_data/municipal-standard-data-set-test)に準拠した形式で取得します。\n",
    "\n",
    "## 用語説明\n",
    "### 避難場所\n",
    "災害から身を守るため、一時的に逃げ込む場所  \n",
    "河川敷や大きい公園など、広いスペースが指定されることが多い"
   ]
  },
  {
   "cell_type": "code",
   "execution_count": 24,
   "metadata": {},
   "outputs": [],
   "source": [
    "# 必要なライブラリのインポート\n",
    "import pandas as pd\n",
    "import matplotlib.pyplot as plt"
   ]
  },
  {
   "cell_type": "code",
   "execution_count": 25,
   "metadata": {},
   "outputs": [],
   "source": [
    "data_dir = '../data'\n",
    "\n",
    "# utf-8で読み込む\n",
    "df_area = pd.read_csv(f'{data_dir}/130001_evacuation_area.csv', encoding='utf8').dropna(how='all')"
   ]
  },
  {
   "cell_type": "code",
   "execution_count": 26,
   "metadata": {},
   "outputs": [],
   "source": [
    "from OpendataModel.EmergencyEvacuationSite import EmergencyEvacuationSite"
   ]
  },
  {
   "cell_type": "code",
   "execution_count": 27,
   "metadata": {},
   "outputs": [],
   "source": [
    "def convert_csv_row_to_site(row) -> EmergencyEvacuationSite:\n",
    "    \"\"\"CSVの行データをEmergencyEvacuationSiteクラスのインスタンスに変換する\"\"\"\n",
    "    return EmergencyEvacuationSite(\n",
    "        local_gov_code=None,  # 存在しないためNone\n",
    "        id=None,  # 存在しないためNone\n",
    "        name=row['施設名'],\n",
    "        name_kana=None,  # 存在しないためNone\n",
    "        name_english=None,  # 存在しないためNone\n",
    "        address_code=row['区市町村\\nコード'],\n",
    "        town_id=None,  # 存在しないためNone\n",
    "        address=row['所在地住所'],\n",
    "        prefecture=None,  # 存在しないためNone\n",
    "        city=row['区市町村'],\n",
    "        town=None,  # 存在しないためNone\n",
    "        building_info=None,  # 存在しないためNone\n",
    "        latitude=row['緯度'],\n",
    "        longitude=row['経度'],\n",
    "        altitude=None,  # 存在しないためNone\n",
    "        phone_number=None,  # 存在しないためNone\n",
    "        extension_number=None,  # 存在しないためNone\n",
    "        email_address=None,  # 存在しないためNone\n",
    "        form_url=None,  # 存在しないためNone\n",
    "        postal_code=None,  # 存在しないためNone\n",
    "        city_code=None,  # 存在しないためNone\n",
    "        disaster_flood=row['洪水'],\n",
    "        disaster_landslide=row['崖崩れ、土石流及び地滑り'],\n",
    "        disaster_storm_surge=row['高潮'],\n",
    "        disaster_earthquake=row['地震'],\n",
    "        disaster_tsunami=row['津波'],\n",
    "        disaster_large_fire=row['大規模な火事'],\n",
    "        disaster_inland_water_flooding=row['内水氾濫'],\n",
    "        disaster_volcanic_phenomenon=row['火山現象'],\n",
    "        overlap_with_shelter=None,  # 存在しないためNone\n",
    "        capacity=None,  # 存在しないためNone\n",
    "        target_communities=None,  # 存在しないためNone\n",
    "        url=None,  # 存在しないためNone\n",
    "        image_url=None,  # 存在しないためNone\n",
    "        image_license=None,  # 存在しないためNone\n",
    "        notes=row['その他']  # その他の情報を備考として扱う\n",
    "    )\n",
    "\n",
    "emergency_evacuation_site_list = [convert_csv_row_to_site(row) for _, row in df_area.iterrows()]\n"
   ]
  },
  {
   "cell_type": "code",
   "execution_count": 28,
   "metadata": {},
   "outputs": [],
   "source": [
    "output_dir = \"../output\"\n",
    "\n",
    "pd.DataFrame([emergency_evacuation_site.to_dict() for emergency_evacuation_site in emergency_evacuation_site_list])\\\n",
    "    .to_csv(f'{output_dir}/tokyo_evacuation_site.csv', index=False, encoding='utf8')"
   ]
  }
 ],
 "metadata": {
  "kernelspec": {
   "display_name": "Python 3.9.4 ('.venv': poetry)",
   "language": "python",
   "name": "python3"
  },
  "language_info": {
   "codemirror_mode": {
    "name": "ipython",
    "version": 3
   },
   "file_extension": ".py",
   "mimetype": "text/x-python",
   "name": "python",
   "nbconvert_exporter": "python",
   "pygments_lexer": "ipython3",
   "version": "3.12.1"
  },
  "orig_nbformat": 4,
  "vscode": {
   "interpreter": {
    "hash": "7326a504d27d3bbfa06dfdaa8e75b9a5a282b5fef6464e580a2bbd4ae819d030"
   }
  }
 },
 "nbformat": 4,
 "nbformat_minor": 2
}
